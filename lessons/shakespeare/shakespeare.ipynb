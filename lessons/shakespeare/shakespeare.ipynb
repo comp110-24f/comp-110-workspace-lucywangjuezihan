{
 "cells": [
  {
   "cell_type": "markdown",
   "metadata": {},
   "source": [
    "# Quantifying Shakespeare"
   ]
  },
  {
   "cell_type": "code",
   "execution_count": 4,
   "metadata": {},
   "outputs": [
    {
     "name": "stdout",
     "output_type": "stream",
     "text": [
      "That thereby beauty’s rose might never die,\n",
      "\n",
      "195960\n"
     ]
    }
   ],
   "source": [
    "lines: list[str] = []\n",
    "file_handle = open(\"shakespeare.txt\", \"r\", encoding = \"utf8\")\n",
    "lines = file_handle.readlines()\n",
    "file_handle.close()\n",
    "\n",
    "print(lines[5])\n",
    "print(len(lines))"
   ]
  },
  {
   "cell_type": "markdown",
   "metadata": {},
   "source": [
    "First, clean the data to get only the alphabetical characters, written as lowercase."
   ]
  },
  {
   "cell_type": "code",
   "execution_count": 7,
   "metadata": {},
   "outputs": [
    {
     "name": "stdout",
     "output_type": "stream",
     "text": [
      "thattherebybeautysrosemightneverdie\n"
     ]
    }
   ],
   "source": [
    "clean_lines: list[str] = []\n",
    "\n",
    "for line in lines:\n",
    "    clean_line: str = \"\"\n",
    "    for character in line:\n",
    "        if character.isalpha():\n",
    "            clean_line += character\n",
    "    clean_line = clean_line.lower()\n",
    "    clean_lines.append(clean_line)\n",
    "\n",
    "print(clean_lines[5])"
   ]
  },
  {
   "cell_type": "markdown",
   "metadata": {},
   "source": [
    "Let's count the frequencies of all characters in Shakespeare."
   ]
  },
  {
   "cell_type": "code",
   "execution_count": 10,
   "metadata": {},
   "outputs": [],
   "source": [
    "frequencies: dict[str, int] = {}\n",
    "# for each line in lines\n",
    "for line in clean_lines:\n",
    "#   For each character in the line\n",
    "    for character in line:\n",
    "#       Increase the count of its corresponding frequency by one\n",
    "        # If character is in frequencies:\n",
    "            if character in frequencies:\n",
    "                frequencies[character] += 1\n",
    "        # Otherwise, add the key-value pair to the dict\n",
    "            else:\n",
    "                frequencies[character] = 1"
   ]
  },
  {
   "cell_type": "code",
   "execution_count": 11,
   "metadata": {},
   "outputs": [
    {
     "name": "stdout",
     "output_type": "stream",
     "text": [
      "{'f': 86039, 'r': 252569, 'o': 332835, 'm': 118009, 'a': 311115, 'i': 270991, 'e': 485743, 's': 268258, 't': 354684, 'c': 91830, 'u': 137306, 'w': 96161, 'd': 159283, 'n': 261360, 'h': 256569, 'b': 64084, 'y': 99428, 'g': 72735, 'v': 40426, 'p': 61490, 'l': 181154, 'k': 37838, 'z': 1795, 'x': 5399, 'q': 4000, 'j': 4935, 'æ': 71, 'œ': 17, 'à': 18, 'é': 53, 'è': 38, 'â': 2, 'ç': 52, 'î': 2, 'ê': 6, 'ë': 4}\n"
     ]
    }
   ],
   "source": [
    "print(frequencies)"
   ]
  },
  {
   "cell_type": "markdown",
   "metadata": {},
   "source": [
    "Count the total number of alphabetical characters and compute the likelihood of \"e\""
   ]
  },
  {
   "cell_type": "code",
   "execution_count": 12,
   "metadata": {},
   "outputs": [
    {
     "name": "stdout",
     "output_type": "stream",
     "text": [
      "485743\n",
      "0.11975029454189644\n"
     ]
    }
   ],
   "source": [
    "total_alpha_character: int = 0\n",
    "\n",
    "# Compute total num of characters\n",
    "# ...\n",
    "for character in frequencies:\n",
    "    total_alpha_character += frequencies[character]\n",
    "\n",
    "print(frequencies[\"e\"])\n",
    "print(frequencies[\"e\"] / total_alpha_character)\n"
   ]
  }
 ],
 "metadata": {
  "kernelspec": {
   "display_name": "Python 3",
   "language": "python",
   "name": "python3"
  },
  "language_info": {
   "codemirror_mode": {
    "name": "ipython",
    "version": 3
   },
   "file_extension": ".py",
   "mimetype": "text/x-python",
   "name": "python",
   "nbconvert_exporter": "python",
   "pygments_lexer": "ipython3",
   "version": "3.12.4"
  }
 },
 "nbformat": 4,
 "nbformat_minor": 2
}
